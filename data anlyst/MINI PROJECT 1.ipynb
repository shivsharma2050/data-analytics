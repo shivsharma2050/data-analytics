{
 "cells": [
  {
   "cell_type": "markdown",
   "id": "0848723a-7078-4c01-9d04-ef2f5666d70e",
   "metadata": {},
   "source": [
    "### MINI PROJECT 1"
   ]
  },
  {
   "cell_type": "code",
   "execution_count": 1,
   "id": "27e42d4e-7de2-4981-bc99-9bcdb269724c",
   "metadata": {},
   "outputs": [
    {
     "name": "stdout",
     "output_type": "stream",
     "text": [
      "Candidates:  Alice, Bob, Charlie\n"
     ]
    },
    {
     "name": "stdin",
     "output_type": "stream",
     "text": [
      "Enter your vote (or type 'exit' to finish):  exit\n"
     ]
    },
    {
     "name": "stdout",
     "output_type": "stream",
     "text": [
      "\n",
      "Voting Results:\n",
      "Alice: 0 votes\n",
      "Bob: 0 votes\n",
      "Charlie: 0 votes\n"
     ]
    }
   ],
   "source": [
    "            \n",
    "candidates = [\"Alice\", \"Bob\", \"Charlie\"]\n",
    "votes = {candidate: 0 for candidate in candidates}\n",
    "\n",
    "\n",
    "while True:\n",
    "    print(\"Candidates: \", \", \".join(candidates))\n",
    "    vote = input(\"Enter your vote (or type 'exit' to finish): \")\n",
    "    \n",
    "    if vote.lower() == 'exit':\n",
    "        break\n",
    "    elif vote in candidates:\n",
    "        votes[vote] += 1\n",
    "    else:\n",
    "        print(\"Invalid vote. Please choose a valid candidate.\")\n",
    "        \n",
    "print(\"\\nVoting Results:\")\n",
    "for candidate, vote_count in votes.items():\n",
    "    print(f\"{candidate}: {vote_count} votes\")\n"
   ]
  },
  {
   "cell_type": "code",
   "execution_count": null,
   "id": "59dbdb22-8d66-4653-947f-5656a8c911fa",
   "metadata": {},
   "outputs": [],
   "source": []
  }
 ],
 "metadata": {
  "kernelspec": {
   "display_name": "Python 3 (ipykernel)",
   "language": "python",
   "name": "python3"
  },
  "language_info": {
   "codemirror_mode": {
    "name": "ipython",
    "version": 3
   },
   "file_extension": ".py",
   "mimetype": "text/x-python",
   "name": "python",
   "nbconvert_exporter": "python",
   "pygments_lexer": "ipython3",
   "version": "3.12.6"
  }
 },
 "nbformat": 4,
 "nbformat_minor": 5
}
