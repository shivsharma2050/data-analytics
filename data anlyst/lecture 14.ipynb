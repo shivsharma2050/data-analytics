{
 "cells": [
  {
   "cell_type": "markdown",
   "id": "be5e199c-59cb-4aee-80c6-1500f6b9f46e",
   "metadata": {},
   "source": [
    "### real life conditional problems"
   ]
  },
  {
   "cell_type": "markdown",
   "id": "c71f2a0b-caab-4032-baa1-77413efe0265",
   "metadata": {},
   "source": [
    "### GRADING SYSTEM"
   ]
  },
  {
   "cell_type": "code",
   "execution_count": null,
   "id": "05c4bc8c-7655-4c42-a913-76287499f5c0",
   "metadata": {},
   "outputs": [],
   "source": [
    "def determine_grade(score):\n",
    "    if score >= 90:\n",
    "        return 'A'\n",
    "    elif score >= 80:\n",
    "        return 'B'\n",
    "    elif score >= 70:\n",
    "        return 'C'\n",
    "    elif score >= 60:\n",
    "        return 'D'\n",
    "    else:\n",
    "        return 'F'\n",
    "\n",
    "# Input the number of students\n",
    "num_students = int(input(\"Enter the number of students: \"))\n",
    "\n",
    "# Initialize dictionary to store student names and grades\n",
    "grades = {}\n",
    "\n",
    "for _ in range(num_students):\n",
    "    name = input(\"Enter student's name: \")\n",
    "    score = float(input(\"Enter student's score: \"))\n",
    "    grades[name] = determine_grade(score)\n",
    "\n",
    "# Display the results\n",
    "print(\"\\nGrading Results:\")\n",
    "for student, grade in grades.items():\n",
    "    print(f\"{student}: {grade}\")\n"
   ]
  },
  {
   "cell_type": "code",
   "execution_count": null,
   "id": "df439124-c3c8-45bc-89ab-07c1dd707e90",
   "metadata": {},
   "outputs": [],
   "source": []
  }
 ],
 "metadata": {
  "kernelspec": {
   "display_name": "Python 3 (ipykernel)",
   "language": "python",
   "name": "python3"
  },
  "language_info": {
   "codemirror_mode": {
    "name": "ipython",
    "version": 3
   },
   "file_extension": ".py",
   "mimetype": "text/x-python",
   "name": "python",
   "nbconvert_exporter": "python",
   "pygments_lexer": "ipython3",
   "version": "3.12.6"
  }
 },
 "nbformat": 4,
 "nbformat_minor": 5
}
