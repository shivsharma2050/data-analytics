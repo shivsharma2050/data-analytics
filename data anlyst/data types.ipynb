{
 "cells": [
  {
   "cell_type": "markdown",
   "id": "25368f31-ab52-4d27-925d-a16aae06f5e7",
   "metadata": {},
   "source": [
    "### Create a list of 5 integers and print each item using a loop\n"
   ]
  },
  {
   "cell_type": "code",
   "execution_count": 1,
   "id": "a946789a-b47e-44af-ab33-c7891230c901",
   "metadata": {},
   "outputs": [
    {
     "name": "stdout",
     "output_type": "stream",
     "text": [
      "1\n",
      "2\n",
      "3\n",
      "4\n",
      "5\n"
     ]
    }
   ],
   "source": [
    "numbers = [1, 2, 3, 4, 5]\n",
    "for number in numbers:\n",
    "    print(number)\n"
   ]
  },
  {
   "cell_type": "markdown",
   "id": "e94e92a8-dbcb-4a7c-b830-fcd4b3748326",
   "metadata": {},
   "source": [
    "### Write a program to add a new key-value pair to a dictionary."
   ]
  },
  {
   "cell_type": "code",
   "execution_count": 2,
   "id": "50880443-3876-4f74-8943-31e817105899",
   "metadata": {},
   "outputs": [
    {
     "name": "stdout",
     "output_type": "stream",
     "text": [
      "{'name': 'Alice', 'age': 25, 'city': 'Mumbai'}\n"
     ]
    }
   ],
   "source": [
    "my_dict = {'name': 'Alice', 'age': 25}\n",
    "my_dict['city'] = 'Mumbai'\n",
    "\n",
    "print(my_dict)\n"
   ]
  },
  {
   "cell_type": "markdown",
   "id": "85be1bee-7e33-4765-93b7-5de5e68799ec",
   "metadata": {},
   "source": [
    "### Create a set and add new elements to it."
   ]
  },
  {
   "cell_type": "code",
   "execution_count": 3,
   "id": "16dfec04-7d59-45b9-9e9a-6e55f7209d20",
   "metadata": {},
   "outputs": [
    {
     "name": "stdout",
     "output_type": "stream",
     "text": [
      "{1, 2, 3, 4, 5}\n"
     ]
    }
   ],
   "source": [
    "my_set = {1, 2, 3}\n",
    "my_set.add(4)\n",
    "my_set.add(5)\n",
    "\n",
    "print(my_set)\n"
   ]
  },
  {
   "cell_type": "markdown",
   "id": "4f5578a1-bd9d-4137-8fb0-3b8c996d38be",
   "metadata": {},
   "source": [
    "### Write a program to find the union of two sets."
   ]
  },
  {
   "cell_type": "code",
   "execution_count": 4,
   "id": "10cde5fc-0f0c-4e13-b1ca-d3c0ce859dc9",
   "metadata": {},
   "outputs": [
    {
     "name": "stdout",
     "output_type": "stream",
     "text": [
      "{1, 2, 3, 4, 5}\n"
     ]
    }
   ],
   "source": [
    "\n",
    "set1 = {1, 2, 3}\n",
    "set2 = {3, 4, 5}\n",
    "\n",
    "union_set = set1.union(set2)\n",
    "\n",
    "print(union_set)\n"
   ]
  },
  {
   "cell_type": "markdown",
   "id": "e776ea69-af32-4154-80b3-b34c356319c6",
   "metadata": {},
   "source": [
    "### Remove an element from a set using remove() and discard()."
   ]
  },
  {
   "cell_type": "code",
   "execution_count": 5,
   "id": "2e678167-af38-4918-8a32-2b8b5e8d3023",
   "metadata": {},
   "outputs": [
    {
     "name": "stdout",
     "output_type": "stream",
     "text": [
      "After remove(3): {1, 2, 4, 5}\n",
      "After discard(4): {1, 2, 5}\n"
     ]
    }
   ],
   "source": [
    "my_set = {1, 2, 3, 4, 5}\n",
    "\n",
    "my_set.remove(3)\n",
    "print(\"After remove(3):\", my_set)\n",
    "\n",
    "my_set.discard(4)\n",
    "print(\"After discard(4):\", my_set)\n"
   ]
  },
  {
   "cell_type": "markdown",
   "id": "44de9390-db95-4769-affc-d761436707ac",
   "metadata": {},
   "source": [
    "### Write a program to merge two dictionaries"
   ]
  },
  {
   "cell_type": "code",
   "execution_count": 6,
   "id": "c826041f-7e5a-4053-aa65-0bc603dd1b31",
   "metadata": {},
   "outputs": [
    {
     "name": "stdout",
     "output_type": "stream",
     "text": [
      "{'name': 'Alice', 'age': 25, 'city': 'Mumbai', 'country': 'India'}\n"
     ]
    }
   ],
   "source": [
    "dict1 = {'name': 'Alice', 'age': 25}\n",
    "dict2 = {'city': 'Mumbai', 'country': 'India'}\n",
    "\n",
    "merged_dict = {**dict1, **dict2}\n",
    "\n",
    "print(merged_dict)\n"
   ]
  },
  {
   "cell_type": "code",
   "execution_count": null,
   "id": "3fc2c90b-345c-4c95-9282-4d478e9dd820",
   "metadata": {},
   "outputs": [],
   "source": []
  }
 ],
 "metadata": {
  "kernelspec": {
   "display_name": "Python 3 (ipykernel)",
   "language": "python",
   "name": "python3"
  },
  "language_info": {
   "codemirror_mode": {
    "name": "ipython",
    "version": 3
   },
   "file_extension": ".py",
   "mimetype": "text/x-python",
   "name": "python",
   "nbconvert_exporter": "python",
   "pygments_lexer": "ipython3",
   "version": "3.12.6"
  }
 },
 "nbformat": 4,
 "nbformat_minor": 5
}
