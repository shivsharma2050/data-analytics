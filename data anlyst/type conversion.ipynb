{
 "cells": [
  {
   "cell_type": "markdown",
   "id": "f172f7ff-3eb0-4294-9f8a-2449ac340552",
   "metadata": {},
   "source": [
    "### Convert an integer to a string and concatenate it with another string"
   ]
  },
  {
   "cell_type": "code",
   "execution_count": 1,
   "id": "a23f5903-77a6-461c-adc4-67c4ebb5088a",
   "metadata": {},
   "outputs": [
    {
     "name": "stdout",
     "output_type": "stream",
     "text": [
      "The answer is 42\n"
     ]
    }
   ],
   "source": [
    "number = 42\n",
    "text = \"The answer is \"\n",
    "result = text + str(number)\n",
    "\n",
    "print(result)\n"
   ]
  },
  {
   "cell_type": "markdown",
   "id": "4d8b6219-9851-4eb7-911c-e56d537badb7",
   "metadata": {},
   "source": [
    " ### Write a program to convert a float to an integer."
   ]
  },
  {
   "cell_type": "code",
   "execution_count": 2,
   "id": "edd58be7-a430-4e4a-bcf6-87edf1f73960",
   "metadata": {},
   "outputs": [
    {
     "name": "stdout",
     "output_type": "stream",
     "text": [
      "3\n"
     ]
    }
   ],
   "source": [
    "my_float = 3.14\n",
    "my_int = int(my_float)\n",
    "\n",
    "print(my_int)\n"
   ]
  },
  {
   "cell_type": "markdown",
   "id": "3bed1504-5d3f-4dfd-9cb3-baae7aa24def",
   "metadata": {},
   "source": [
    "### Convert a list to a tuple and print the result."
   ]
  },
  {
   "cell_type": "code",
   "execution_count": 3,
   "id": "ba7b2d6e-19dc-466a-a6f2-7692623c8b64",
   "metadata": {},
   "outputs": [
    {
     "name": "stdout",
     "output_type": "stream",
     "text": [
      "(1, 2, 3, 4, 5)\n"
     ]
    }
   ],
   "source": [
    "my_list = [1, 2, 3, 4, 5]\n",
    "my_tuple = tuple(my_list)\n",
    "\n",
    "print(my_tuple)\n"
   ]
  },
  {
   "cell_type": "markdown",
   "id": "7f97b321-992b-4eac-912d-c070e87190d8",
   "metadata": {},
   "source": [
    "### Write a program that converts a string \"3.14\" into a float."
   ]
  },
  {
   "cell_type": "code",
   "execution_count": 4,
   "id": "ccbfd96b-b2d6-4be9-9af0-bba32eaabf4c",
   "metadata": {},
   "outputs": [
    {
     "name": "stdout",
     "output_type": "stream",
     "text": [
      "3.14\n"
     ]
    }
   ],
   "source": [
    "my_string = \"3.14\"\n",
    "my_float = float(my_string)\n",
    "\n",
    "print(my_float)\n"
   ]
  },
  {
   "cell_type": "markdown",
   "id": "73d7fd5e-767c-485d-ab79-fde2f1fa42ad",
   "metadata": {},
   "source": [
    "### Convert a boolean True into an integer and print the result"
   ]
  },
  {
   "cell_type": "code",
   "execution_count": null,
   "id": "18d05c91-b7b4-43f0-87de-3f9e5e8280ea",
   "metadata": {},
   "outputs": [],
   "source": [
    "my_bool = True\n",
    "my_int = int(my_bool)\n",
    "\n",
    "print(my_int)\n"
   ]
  },
  {
   "cell_type": "markdown",
   "id": "e4c12886-b469-4601-a98a-fcd38e5f6dee",
   "metadata": {},
   "source": [
    "### Write a program that converts a set into a list and prints both."
   ]
  },
  {
   "cell_type": "code",
   "execution_count": 6,
   "id": "b2f72f25-ea44-4083-aa07-dd6b8f1c5810",
   "metadata": {},
   "outputs": [
    {
     "name": "stdout",
     "output_type": "stream",
     "text": [
      "Set: {1, 2, 3, 4, 5}\n",
      "List: [1, 2, 3, 4, 5]\n"
     ]
    }
   ],
   "source": [
    "my_set = {1, 2, 3, 4, 5}\n",
    "my_list = list(my_set)\n",
    "\n",
    "print(\"Set:\", my_set)\n",
    "print(\"List:\", my_list)\n"
   ]
  },
  {
   "cell_type": "markdown",
   "id": "b8b2a4ae-901a-45d1-a325-7a14bd213692",
   "metadata": {},
   "source": [
    "### Convert a dictionary’s keys into a list and print the result."
   ]
  },
  {
   "cell_type": "code",
   "execution_count": 7,
   "id": "d6dda174-a572-4d4b-9685-b90db6e6571c",
   "metadata": {},
   "outputs": [
    {
     "name": "stdout",
     "output_type": "stream",
     "text": [
      "Dictionary keys: ['name', 'age', 'city']\n"
     ]
    }
   ],
   "source": [
    "my_dict = {'name': 'Alice', 'age': 25, 'city': 'Mumbai'}\n",
    "keys_list = list(my_dict.keys())\n",
    "\n",
    "print(\"Dictionary keys:\", keys_list)\n"
   ]
  },
  {
   "cell_type": "markdown",
   "id": "d02fe77f-0159-446b-9ab4-4d251fa6ff25",
   "metadata": {},
   "source": [
    "### Write a program to convert a number into a string with two decimal places"
   ]
  },
  {
   "cell_type": "code",
   "execution_count": 8,
   "id": "aebfff32-de77-4d45-88b1-c0a8b41778fe",
   "metadata": {},
   "outputs": [
    {
     "name": "stdout",
     "output_type": "stream",
     "text": [
      "3.14\n"
     ]
    }
   ],
   "source": [
    "number = 3.14159\n",
    "formatted_number = \"{:.2f}\".format(number)\n",
    "\n",
    "print(formatted_number)\n"
   ]
  },
  {
   "cell_type": "code",
   "execution_count": null,
   "id": "9a8e67c5-7282-4e00-9576-a466bf360beb",
   "metadata": {},
   "outputs": [],
   "source": []
  }
 ],
 "metadata": {
  "kernelspec": {
   "display_name": "Python 3 (ipykernel)",
   "language": "python",
   "name": "python3"
  },
  "language_info": {
   "codemirror_mode": {
    "name": "ipython",
    "version": 3
   },
   "file_extension": ".py",
   "mimetype": "text/x-python",
   "name": "python",
   "nbconvert_exporter": "python",
   "pygments_lexer": "ipython3",
   "version": "3.12.6"
  }
 },
 "nbformat": 4,
 "nbformat_minor": 5
}
